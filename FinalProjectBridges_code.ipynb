{
 "cells": [
  {
   "cell_type": "markdown",
   "metadata": {},
   "source": [
    "### Load Data Sets"
   ]
  },
  {
   "cell_type": "code",
   "execution_count": 1,
   "metadata": {},
   "outputs": [
    {
     "name": "stderr",
     "output_type": "stream",
     "text": [
      "2022-12-12 17:40:16.730784: I tensorflow/core/platform/cpu_feature_guard.cc:193] This TensorFlow binary is optimized with oneAPI Deep Neural Network Library (oneDNN) to use the following CPU instructions in performance-critical operations:  SSE4.1 SSE4.2 AVX AVX2 FMA\n",
      "To enable them in other operations, rebuild TensorFlow with the appropriate compiler flags.\n"
     ]
    }
   ],
   "source": [
    "import pandas as pd\n",
    "import numpy as np\n",
    "import nltk\n",
    "import re\n",
    "import contractions\n",
    "from nltk.corpus import stopwords\n",
    "from nltk.stem import WordNetLemmatizer\n",
    "from nltk import sent_tokenize, word_tokenize\n",
    "from nltk.tokenize.treebank import TreebankWordDetokenizer\n",
    "from sklearn.model_selection import train_test_split\n",
    "from keras.preprocessing.text import Tokenizer\n",
    "\n",
    "fakenews_pd = pd.read_csv(\"./Fake.csv\")\n",
    "realnews_pd = pd.read_csv(\"./True.csv\")"
   ]
  },
  {
   "cell_type": "code",
   "execution_count": 2,
   "metadata": {},
   "outputs": [],
   "source": [
    "# preliminary cleanup for accurate EDA, get rid of articles in the fakenews df that has\n",
    "# only empty spaces in the text column (like videos)\n",
    "\n",
    "fakenews_pd = fakenews_pd[~fakenews_pd['text'].isin(['  ', ' '])]"
   ]
  },
  {
   "cell_type": "markdown",
   "metadata": {},
   "source": [
    "### EDA"
   ]
  },
  {
   "cell_type": "markdown",
   "metadata": {},
   "source": [
    "#### Fake news"
   ]
  },
  {
   "cell_type": "code",
   "execution_count": 3,
   "metadata": {},
   "outputs": [
    {
     "data": {
      "text/plain": [
       "434.8654325850072"
      ]
     },
     "execution_count": 3,
     "metadata": {},
     "output_type": "execute_result"
    }
   ],
   "source": [
    "# fake news - average words per article\n",
    "\n",
    "fn_list = list(fakenews_pd['text'])\n",
    "fn_len = [len(item.split()) for item in fn_list]\n",
    "sum(fn_len)/len(fn_len)"
   ]
  },
  {
   "cell_type": "code",
   "execution_count": 4,
   "metadata": {},
   "outputs": [
    {
     "data": {
      "text/plain": [
       "22.48181698831561"
      ]
     },
     "execution_count": 4,
     "metadata": {},
     "output_type": "execute_result"
    }
   ],
   "source": [
    "# fake news - average sentences per article\n",
    "\n",
    "fn_list_list = [[item] for item in fn_list]\n",
    "fn_list_len = [[len(item.split(\".\")) for item in sublist] for sublist in fn_list_list]\n",
    "fn_list_len = [item for sublist in fn_list_len for item in sublist]\n",
    "sum(fn_list_len)/len(fn_list_len)"
   ]
  },
  {
   "cell_type": "code",
   "execution_count": 5,
   "metadata": {},
   "outputs": [
    {
     "data": {
      "text/plain": [
       "count    22851.000000\n",
       "mean        22.481817\n",
       "std         20.116143\n",
       "min          1.000000\n",
       "25%         12.000000\n",
       "50%         19.000000\n",
       "75%         27.000000\n",
       "max        556.000000\n",
       "dtype: float64"
      ]
     },
     "execution_count": 5,
     "metadata": {},
     "output_type": "execute_result"
    }
   ],
   "source": [
    "# fake news sentence stats\n",
    "\n",
    "fake_sents = pd.Series(fn_list_len)\n",
    "fake_sents.describe()"
   ]
  },
  {
   "cell_type": "code",
   "execution_count": 6,
   "metadata": {},
   "outputs": [
    {
     "data": {
      "text/plain": [
       "1290"
      ]
     },
     "execution_count": 6,
     "metadata": {},
     "output_type": "execute_result"
    }
   ],
   "source": [
    "# count fake articles with fewer than 4 sentences in text\n",
    "\n",
    "sum(i < 4 for i in fn_list_len)"
   ]
  },
  {
   "cell_type": "code",
   "execution_count": 7,
   "metadata": {},
   "outputs": [
    {
     "data": {
      "text/plain": [
       "877"
      ]
     },
     "execution_count": 7,
     "metadata": {},
     "output_type": "execute_result"
    }
   ],
   "source": [
    "# count fake articles with fewer than 3 sentences in text\n",
    "\n",
    "sum(i < 3 for i in fn_list_len)"
   ]
  },
  {
   "cell_type": "markdown",
   "metadata": {},
   "source": [
    "#### Real news"
   ]
  },
  {
   "cell_type": "code",
   "execution_count": 8,
   "metadata": {},
   "outputs": [
    {
     "data": {
      "text/plain": [
       "385.6400989867862"
      ]
     },
     "execution_count": 8,
     "metadata": {},
     "output_type": "execute_result"
    }
   ],
   "source": [
    "# real news - average words per article\n",
    "\n",
    "rn_list = list(realnews_pd['text'])\n",
    "rn_len = [len(item.split()) for item in rn_list]\n",
    "sum(rn_len)/len(rn_len)"
   ]
  },
  {
   "cell_type": "code",
   "execution_count": 9,
   "metadata": {},
   "outputs": [
    {
     "data": {
      "text/plain": [
       "21.982724004295655"
      ]
     },
     "execution_count": 9,
     "metadata": {},
     "output_type": "execute_result"
    }
   ],
   "source": [
    "# real news - average sentences per article\n",
    "\n",
    "rn_list = list(realnews_pd['text'])\n",
    "rn_list_list = [[item] for item in rn_list]\n",
    "rn_list_len = [[len(item.split(\".\")) for item in sublist] for sublist in rn_list_list]\n",
    "rn_list_len = [item for sublist in rn_list_len for item in sublist]\n",
    "sum(rn_list_len)/len(rn_list_len)"
   ]
  },
  {
   "cell_type": "code",
   "execution_count": 10,
   "metadata": {},
   "outputs": [
    {
     "data": {
      "text/plain": [
       "count    21417.000000\n",
       "mean        21.982724\n",
       "std         15.972420\n",
       "min          1.000000\n",
       "25%          9.000000\n",
       "50%         19.000000\n",
       "75%         30.000000\n",
       "max        283.000000\n",
       "dtype: float64"
      ]
     },
     "execution_count": 10,
     "metadata": {},
     "output_type": "execute_result"
    }
   ],
   "source": [
    "# real news sentence stats\n",
    "\n",
    "real_sents = pd.Series(rn_list_len)\n",
    "real_sents.describe()"
   ]
  },
  {
   "cell_type": "code",
   "execution_count": 11,
   "metadata": {},
   "outputs": [
    {
     "data": {
      "text/plain": [
       "1290"
      ]
     },
     "execution_count": 11,
     "metadata": {},
     "output_type": "execute_result"
    }
   ],
   "source": [
    "# count fake articles with fewer than 4 sentences in text\n",
    "\n",
    "sum(i < 4 for i in fn_list_len)"
   ]
  },
  {
   "cell_type": "code",
   "execution_count": 12,
   "metadata": {},
   "outputs": [
    {
     "data": {
      "text/plain": [
       "95"
      ]
     },
     "execution_count": 12,
     "metadata": {},
     "output_type": "execute_result"
    }
   ],
   "source": [
    "# count fake articles with fewer than 3 sentences in text\n",
    "\n",
    "sum(i < 3 for i in rn_list_len)"
   ]
  },
  {
   "cell_type": "markdown",
   "metadata": {},
   "source": [
    "### Cleanup"
   ]
  },
  {
   "cell_type": "code",
   "execution_count": 13,
   "metadata": {},
   "outputs": [],
   "source": [
    "# convert the text and title columns to lists for each data article data frame\n",
    "\n",
    "fn_list_text = fakenews_pd['text'].tolist()\n",
    "fn_list_title = fakenews_pd['title'].tolist()\n",
    "rn_list_text = realnews_pd['text'].tolist()\n",
    "rn_list_title = realnews_pd['title'].tolist()"
   ]
  },
  {
   "cell_type": "markdown",
   "metadata": {},
   "source": [
    "Fake News"
   ]
  },
  {
   "cell_type": "code",
   "execution_count": 14,
   "metadata": {},
   "outputs": [],
   "source": [
    "# define fake news clean up function\n",
    "\n",
    "def fn_cleanup(list):\n",
    "\n",
    "    # remove periods from acronyms\n",
    "    fn_list_acro_fix = [re.sub(r'(?<!\\w)([A-Z])\\.', r'\\1', text) for text in list]\n",
    "\n",
    "    # remove twitter pics and credits\n",
    "    fn_list_no_twitpics = [re.sub(r'pic.twitter[\\S ]+?[\\d]{4}','', text) for text in fn_list_acro_fix]\n",
    "\n",
    "    # remove twitter handles\n",
    "    fn_list_no_twitter = [re.sub(r'\\(@_[\\w\\d]+\\)|\\(@[\\w\\d]+\\)|@[\\w\\d]+|@_[\\w\\d]+', ' ', text) for text in fn_list_no_twitpics]\n",
    "\n",
    "    # remove url links\n",
    "    fn_list_no_links = [re.sub(r'https\\:[\\S]+|pic.twitter[\\S]+','', text) for text in fn_list_no_twitter]\n",
    "\n",
    "    # remove photo credits\n",
    "    fn_list_no_photo_creds = [re.sub(r'Photo by[\\S ]+\\Z|Featured image[\\S ]+\\Z', '', text) for text in fn_list_no_links]\n",
    "\n",
    "    # remove hashtags\n",
    "    fn_list_no_hashtags = [re.sub(r'\\#[\\S]+', '', text) for text in fn_list_no_photo_creds]\n",
    "\n",
    "    # replace dashes with spaces\n",
    "    fn_list_no_dashes = [text.replace(\"-\", \" \") for text in fn_list_no_hashtags]\n",
    "\n",
    "    # separate sentences with space if no space after period\n",
    "    fn_list_add_spaces = [re.sub(r'((?<=[\\w\\d][\\.\\?\\!])[\\w\\d])', r' \\1', text) for text in fn_list_no_dashes]\n",
    "\n",
    "    # remove dates\n",
    "    fn_list_no_dates = [re.sub(r'[\\w]+ [\\d]{1,2}\\, [\\d]{4}', '', text) for text in fn_list_add_spaces]\n",
    "\n",
    "    # add space between dates and sentence beginnings\n",
    "    fn_list_fix_spaces = [re.sub(r'((?<=[0-9]{4})\\w)', r' \\1', text) for text in fn_list_no_dates]\n",
    "\n",
    "    # remove numbers if in the middle of words\n",
    "    fn_list_fix_alnums = [re.sub(r'(?<=[a-zA-Z])[\\d]+|(?<=[a-zA-Z])[\\d]+(?=[a-zA-Z])|[\\d]+(?=[a-zA-Z])', '', text) for text in fn_list_fix_spaces]\n",
    "\n",
    "    # join contractions with apostrophe (currently the 't' is separated with a space) then separate them into verb_not\n",
    "    fn_list_fix_conts1 = [re.sub(r'([a-zA-Z]+) (?=t )', r\"\\1'\", text).rstrip() for text in fn_list_fix_alnums]\n",
    "    fn_list_fix_conts2 = [re.sub(r'([a-zA-Z]+) (?=ll )', r\"\\1'\", text).rstrip() for text in fn_list_fix_conts1]\n",
    "    fn_list_fix_conts3 = [re.sub(r'([a-zA-Z]+) (?=s )', r\"\\1'\", text).rstrip() for text in fn_list_fix_conts2]\n",
    "    fn_list_fix_conts = [contractions.fix(text) for text in fn_list_fix_conts3]\n",
    "\n",
    "    return fn_list_fix_conts"
   ]
  },
  {
   "cell_type": "code",
   "execution_count": 15,
   "metadata": {},
   "outputs": [],
   "source": [
    "# clean up fake news whole text and title lists\n",
    "\n",
    "fn_cleanup_text = fn_cleanup(fn_list_text)\n",
    "fn_cleanup_title = fn_cleanup(fn_list_title)"
   ]
  },
  {
   "cell_type": "code",
   "execution_count": 16,
   "metadata": {},
   "outputs": [],
   "source": [
    "# define fake news transform function that shapes data to fit LSTM input\n",
    "\n",
    "def fn_consolidate(list):\n",
    "    \n",
    "    # sentence tokenize unless summary\n",
    "    if list == fn_cleanup_title or list == fn_cleanup_text:\n",
    "\n",
    "        fn_sent_toks = [sent_tokenize(item) for item in list]\n",
    "\n",
    "        # word tokenize\n",
    "        fn_word_tokens = [[word_tokenize(word) for word in sentence] for sentence in fn_sent_toks]\n",
    "\n",
    "    else:\n",
    "\n",
    "        # word tokenize\n",
    "        fn_word_tokens = [[word_tokenize(word) for word in sentence] for sentence in list]\n",
    "\n",
    "\n",
    "    # retain only words\n",
    "    fn_word_alphas = [[[word for word in sentence if word.isalpha()] for sentence in text] for text in fn_word_tokens]\n",
    "\n",
    "    # convert to lowercase\n",
    "    fn_word_lower = [[[word.lower() for word in sentence] for sentence in text] for text in fn_word_alphas]\n",
    "\n",
    "    # remove stop words\n",
    "    fn_word_nostops = [[[word for word in sentence if word not in stopwords.words('english')] for sentence in text] for text in fn_word_lower]\n",
    "\n",
    "    # lemmatize words\n",
    "    lem = WordNetLemmatizer()\n",
    "    # fn_words_lemma = [[[lem.lemmatize(word) for word in sentence] for sentence in text] for text in fn_word_lower]\n",
    "    fn_words_lemma = [[[lem.lemmatize(word) for word in sentence] for sentence in text] for text in fn_word_nostops]\n",
    "\n",
    "    # put words back into sentences (detokenize)\n",
    "    fn_words_detokenized = [[[TreebankWordDetokenizer().detokenize(sentence)] for sentence in text] for text in fn_words_lemma]\n",
    "\n",
    "    # group sentences in article back together\n",
    "    fn_sentences = [[sentence for sub_list in text for sentence in sub_list] for text in fn_words_detokenized]\n",
    "\n",
    "    # add periods back to ends of sentences so they can be identified by LSTM\n",
    "    fn_clean_text = [[(sentence + \". \") for sentence in text] for text in fn_sentences]\n",
    "    fn_clean_text_join = [\"\".join(text) for text in fn_clean_text]\n",
    "\n",
    "    return fn_clean_text_join\n"
   ]
  },
  {
   "cell_type": "code",
   "execution_count": 17,
   "metadata": {},
   "outputs": [],
   "source": [
    "# transform fake news whole text and title lists\n",
    "\n",
    "fn_join_title = fn_consolidate(fn_cleanup_title)\n",
    "fn_join_text = fn_consolidate(fn_cleanup_text)"
   ]
  },
  {
   "cell_type": "code",
   "execution_count": 18,
   "metadata": {},
   "outputs": [],
   "source": [
    "# save transformed text as np arrays to be reloaded below\n",
    "\n",
    "fn_join_title_array = np.array(fn_join_title, dtype=object)\n",
    "fn_join_text_array = np.array(fn_join_text, dtype=object)\n",
    "np.save(\"fn_join_title\", fn_join_title_array)\n",
    "np.save(\"fn_join_text\", fn_join_text_array)\n"
   ]
  },
  {
   "cell_type": "markdown",
   "metadata": {},
   "source": [
    "Real news"
   ]
  },
  {
   "cell_type": "code",
   "execution_count": 19,
   "metadata": {},
   "outputs": [],
   "source": [
    "# define real news clean up function\n",
    "\n",
    "def rn_cleanup(list):\n",
    "\n",
    "    # remove periods from acronyms\n",
    "    rn_list_acro_fix = [re.sub(r'(?<!\\w)([A-Z])\\.', r'\\1', text) for text in list]\n",
    "\n",
    "    # remove Reuters news desk locations\n",
    "    rn_list_no_newsdesk = [re.sub(r'\\A[\\S\\/. ]*\\(Reuters\\) - |NEW YORK/WASHINGTON (Reuters) - ','', text) for text in rn_list_acro_fix]\n",
    "\n",
    "    # remove twitter handles\n",
    "    rn_list_no_twitter = [re.sub(r'@[\\w]+|@_[\\w]+|\\(@_[\\w]+\\)', '', text) for text in rn_list_no_newsdesk]\n",
    "\n",
    "    # remove latin1 spaces ('xa0')\n",
    "    rn_list_no_twitter = [text.replace(u'\\xa0', u' ') for text in rn_list_no_twitter]\n",
    "\n",
    "    # remove bitly urls\n",
    "    rn_list_no_links = [re.sub(r' -- Source link: [\\S ]*\\Z|bit\\.ly[\\/\\w]+','', text) for text in rn_list_no_twitter]\n",
    "\n",
    "    # remove timestamps\n",
    "    rn_list_no_timestamps = [re.sub(r'\\[[\\w\\d:\\ ]*\\]','', text) for text in rn_list_no_links]\n",
    "\n",
    "    # Reuters prints a disclaimer before every twitter statement that the views expressed are not their own\n",
    "    rn_clean_list = [re.sub(r'The following [\\S ]+ \\: \\- ', '', text) for text in rn_list_no_timestamps]\n",
    "\n",
    "    # join contractions with apostrophe (currently the 't' is separated with a space) then separate them into verb_not\n",
    "    rn_list_fix_conts1 = [re.sub(r'([a-zA-Z]+) (?=t )', r\"\\1'\", text).rstrip() for text in rn_clean_list]\n",
    "    rn_list_fix_conts2 = [re.sub(r'([a-zA-Z]+) (?=ll )', r\"\\1'\", text).rstrip() for text in rn_list_fix_conts1]\n",
    "    rn_list_fix_conts3 = [re.sub(r'([a-zA-Z]+) (?=s )', r\"\\1'\", text).rstrip() for text in rn_list_fix_conts2]\n",
    "    rn_list_fix_conts = [contractions.fix(text) for text in rn_list_fix_conts3]\n",
    "\n",
    "    return rn_list_fix_conts"
   ]
  },
  {
   "cell_type": "code",
   "execution_count": 20,
   "metadata": {},
   "outputs": [],
   "source": [
    "# clean up real news whole text and title lists\n",
    "\n",
    "rn_cleanup_text = rn_cleanup(rn_list_text)\n",
    "rn_cleanup_title = rn_cleanup(rn_list_title)"
   ]
  },
  {
   "cell_type": "code",
   "execution_count": 21,
   "metadata": {},
   "outputs": [],
   "source": [
    "# define real news transform function that shapes data to fit LSTM input\n",
    "\n",
    "def rn_consolidate(list):\n",
    "\n",
    "    # sentence tokenize unless summary\n",
    "    if list == rn_cleanup_title or list == rn_cleanup_text:\n",
    "\n",
    "        rn_sent_toks = [sent_tokenize(item) for item in list]\n",
    "\n",
    "        # word tokenize\n",
    "        rn_word_tokens = [[word_tokenize(word) for word in sentence] for sentence in rn_sent_toks]\n",
    "\n",
    "    else:\n",
    "\n",
    "        # word tokenize\n",
    "        rn_word_tokens = [[word_tokenize(word) for word in sentence] for sentence in list]\n",
    "\n",
    "    # retain only words\n",
    "    rn_word_alphas = [[[word for word in sentence if word.isalpha()] for sentence in text] for text in rn_word_tokens]\n",
    "\n",
    "    # convert to lowercase\n",
    "    rn_word_lower = [[[word.lower() for word in sentence] for sentence in text] for text in rn_word_alphas]\n",
    "\n",
    "    # remove stop words\n",
    "    rn_word_nostops = [[[word for word in sentence if word not in stopwords.words('english')] for sentence in text] for text in rn_word_lower]\n",
    "\n",
    "    # lemmatize words\n",
    "    lem = WordNetLemmatizer()\n",
    "    # rn_words_lemma = [[[lem.lemmatize(word) for word in sentence] for sentence in text] for text in rn_word_lower]\n",
    "    rn_words_lemma = [[[lem.lemmatize(word) for word in sentence] for sentence in text] for text in rn_word_nostops]\n",
    "\n",
    "    # put words back into sentences (detokenize)\n",
    "    rn_words_detokenized = [[[TreebankWordDetokenizer().detokenize(sentence)] for sentence in text] for text in rn_words_lemma]\n",
    "\n",
    "    # group sentences in article back together\n",
    "    rn_sentences = [[sentence for sub_list in text for sentence in sub_list] for text in rn_words_detokenized]\n",
    "\n",
    "    # add periods back to ends of sentences so they can be identified by LSTM\n",
    "    rn_clean_text = [[(sentence + \". \") for sentence in text] for text in rn_sentences]\n",
    "    rn_clean_text_join = [\"\".join(text) for text in rn_clean_text]\n",
    "\n",
    "    return rn_clean_text_join"
   ]
  },
  {
   "cell_type": "code",
   "execution_count": 22,
   "metadata": {},
   "outputs": [],
   "source": [
    "# transform real news whole text and title lists\n",
    "\n",
    "rn_join_title = rn_consolidate(rn_cleanup_title)\n",
    "rn_join_text = rn_consolidate(rn_cleanup_text)"
   ]
  },
  {
   "cell_type": "code",
   "execution_count": 23,
   "metadata": {},
   "outputs": [],
   "source": [
    "# save processed text as np arrays to be reloaded below\n",
    "\n",
    "rn_join_title_array = np.array(rn_join_title, dtype=object)\n",
    "rn_join_text_array = np.array(rn_join_text, dtype=object)\n",
    "np.save(\"rn_join_title\", rn_join_title_array)\n",
    "np.save(\"rn_join_text\", rn_join_text_array)\n"
   ]
  },
  {
   "cell_type": "markdown",
   "metadata": {},
   "source": [
    "### TextRank"
   ]
  },
  {
   "cell_type": "code",
   "execution_count": 24,
   "metadata": {},
   "outputs": [],
   "source": [
    "# define text rank function\n",
    "\n",
    "def text_summarize(text_list, num_sents):\n",
    "\n",
    "    from gensim.summarization.textcleaner import split_sentences\n",
    "    from gensim.summarization.summarizer import summarize\n",
    "\n",
    "    text_summaries = []\n",
    "    for text in text_list:\n",
    "        sentence_list = split_sentences(text)\n",
    "        sent_len = len(sentence_list)\n",
    "        if 0 < sent_len < num_sents:\n",
    "            text_summaries.append(sentence_list[:sent_len])\n",
    "        else:\n",
    "            temp_summaries = []\n",
    "            temp_summaries.append(summarize(text, word_count=200))\n",
    "            text_summaries.append(temp_summaries[0].split(\"\\n\", num_sents)[:num_sents])\n",
    "            \n",
    "    return text_summaries"
   ]
  },
  {
   "cell_type": "code",
   "execution_count": 25,
   "metadata": {},
   "outputs": [],
   "source": [
    "# create 3 and 4 sentence fake news summaries\n",
    "\n",
    "fn_summ3 = text_summarize(fn_cleanup_text, 3)\n",
    "fn_summ4 = text_summarize(fn_cleanup_text, 4)\n",
    "\n",
    "# transform 3 and 4 sentence fake news summaries\n",
    "\n",
    "fn_summ3_join = fn_consolidate(fn_summ3)\n",
    "fn_summ4_join = fn_consolidate(fn_summ4)"
   ]
  },
  {
   "cell_type": "code",
   "execution_count": 26,
   "metadata": {},
   "outputs": [],
   "source": [
    "# save fake news summaries as np arrays to be reloaded below\n",
    "\n",
    "fn_join_summ3_array = np.array(fn_summ3_join, dtype=object)\n",
    "fn_join_summ4_array = np.array(fn_summ4_join, dtype=object)\n",
    "np.save(\"fn_join_summ3\", fn_join_summ3_array)\n",
    "np.save(\"fn_join_summ4\", fn_join_summ4_array)\n"
   ]
  },
  {
   "cell_type": "code",
   "execution_count": 27,
   "metadata": {},
   "outputs": [],
   "source": [
    "# create 3 and 4 sentence real news summaries\n",
    "\n",
    "rn_summ3 = text_summarize(rn_cleanup_text, 3)\n",
    "rn_summ4 = text_summarize(rn_cleanup_text, 4)\n",
    "\n",
    "# transform 3 and 4 sentence real news summaries\n",
    "\n",
    "rn_summ3_join = fn_consolidate(rn_summ3)\n",
    "rn_summ4_join = fn_consolidate(rn_summ4)"
   ]
  },
  {
   "cell_type": "code",
   "execution_count": 28,
   "metadata": {},
   "outputs": [],
   "source": [
    "# save real news summaries as np arrays to be reloaded below\n",
    "\n",
    "rn_join_summ3_array = np.array(rn_summ3_join, dtype=object)\n",
    "rn_join_summ4_array = np.array(rn_summ4_join, dtype=object)\n",
    "np.save(\"rn_join_summ3\", rn_join_summ3_array)\n",
    "np.save(\"rn_join_summ4\", rn_join_summ4_array)"
   ]
  },
  {
   "cell_type": "code",
   "execution_count": 29,
   "metadata": {},
   "outputs": [],
   "source": [
    "# create new column in realnews_pd with and add cleaned text to each row\n",
    "\n",
    "fn_clean_title_load = np.load(\"fn_join_title.npy\", allow_pickle=True).tolist()\n",
    "fn_clean_text_load = np.load(\"fn_join_text.npy\", allow_pickle=True).tolist()\n",
    "fn_clean_summ3_load = np.load(\"fn_join_summ3.npy\", allow_pickle=True).tolist()\n",
    "fn_clean_summ4_load = np.load(\"fn_join_summ4.npy\", allow_pickle=True).tolist()\n",
    "\n",
    "rn_clean_title_load = np.load(\"rn_join_title.npy\", allow_pickle=True).tolist()\n",
    "rn_clean_text_load = np.load(\"rn_join_text.npy\", allow_pickle=True).tolist()\n",
    "rn_clean_summ3_load = np.load(\"rn_join_summ3.npy\", allow_pickle=True).tolist()\n",
    "rn_clean_summ4_load = np.load(\"rn_join_summ4.npy\", allow_pickle=True).tolist()\n",
    "\n",
    "fakenews_pd['cleaned_title'] = fn_clean_title_load\n",
    "fakenews_pd['cleaned_text'] = fn_clean_text_load\n",
    "fakenews_pd['cleaned_summ3'] = fn_clean_summ3_load\n",
    "fakenews_pd['cleaned_summ4'] = fn_clean_summ4_load\n",
    "\n",
    "realnews_pd['cleaned_title'] = rn_clean_title_load\n",
    "realnews_pd['cleaned_text'] = rn_clean_text_load\n",
    "realnews_pd['cleaned_summ3'] = rn_clean_summ3_load\n",
    "realnews_pd['cleaned_summ4'] = rn_clean_summ4_load"
   ]
  },
  {
   "cell_type": "code",
   "execution_count": 30,
   "metadata": {},
   "outputs": [
    {
     "data": {
      "text/html": [
       "<div>\n",
       "<style scoped>\n",
       "    .dataframe tbody tr th:only-of-type {\n",
       "        vertical-align: middle;\n",
       "    }\n",
       "\n",
       "    .dataframe tbody tr th {\n",
       "        vertical-align: top;\n",
       "    }\n",
       "\n",
       "    .dataframe thead th {\n",
       "        text-align: right;\n",
       "    }\n",
       "</style>\n",
       "<table border=\"1\" class=\"dataframe\">\n",
       "  <thead>\n",
       "    <tr style=\"text-align: right;\">\n",
       "      <th></th>\n",
       "      <th>title</th>\n",
       "      <th>text</th>\n",
       "      <th>subject</th>\n",
       "      <th>date</th>\n",
       "      <th>cleaned_title</th>\n",
       "      <th>cleaned_text</th>\n",
       "      <th>cleaned_summ3</th>\n",
       "      <th>cleaned_summ4</th>\n",
       "      <th>label</th>\n",
       "    </tr>\n",
       "  </thead>\n",
       "  <tbody>\n",
       "    <tr>\n",
       "      <th>0</th>\n",
       "      <td>Mistrial declared in corruption case against e...</td>\n",
       "      <td>LOS ANGELES (Reuters) - A federal judge declar...</td>\n",
       "      <td>politicsNews</td>\n",
       "      <td>December 22, 2016</td>\n",
       "      <td>mistrial declared corruption case angeles sher...</td>\n",
       "      <td>federal judge declared mistrial thursday obstr...</td>\n",
       "      <td>federal judge declared mistrial thursday obstr...</td>\n",
       "      <td>federal judge declared mistrial thursday obstr...</td>\n",
       "      <td>0</td>\n",
       "    </tr>\n",
       "    <tr>\n",
       "      <th>1</th>\n",
       "      <td>China says hopes all parties can resolve North...</td>\n",
       "      <td>BEIJING (Reuters) - China s Foreign Ministry s...</td>\n",
       "      <td>worldnews</td>\n",
       "      <td>November 21, 2017</td>\n",
       "      <td>china say hope party resolve north korea issue...</td>\n",
       "      <td>china foreign ministry said tuesday hoped part...</td>\n",
       "      <td>china foreign ministry said tuesday hoped part...</td>\n",
       "      <td>china foreign ministry said tuesday hoped part...</td>\n",
       "      <td>0</td>\n",
       "    </tr>\n",
       "    <tr>\n",
       "      <th>2</th>\n",
       "      <td>Ivanka Trump-Branded Cheapo Scarves Recalled ...</td>\n",
       "      <td>Ivanka Trump s stab at using her dad s name to...</td>\n",
       "      <td>News</td>\n",
       "      <td>April 7, 2016</td>\n",
       "      <td>ivanka trump branded cheapo scarf recalled eas...</td>\n",
       "      <td>ivanka trump stab using dad name sell cheap pr...</td>\n",
       "      <td>ivanka trump stab using dad name sell cheap pr...</td>\n",
       "      <td>ivanka trump stab using dad name sell cheap pr...</td>\n",
       "      <td>1</td>\n",
       "    </tr>\n",
       "    <tr>\n",
       "      <th>3</th>\n",
       "      <td>Trump Has Ruined His Own Name So Badly His Ho...</td>\n",
       "      <td>Donald Trump probably thought that running for...</td>\n",
       "      <td>News</td>\n",
       "      <td>October 21, 2016</td>\n",
       "      <td>trump ruined name badly hotel resort drastic s...</td>\n",
       "      <td>donald trump probably thought running presiden...</td>\n",
       "      <td>name stay existing hotel new one carry name sc...</td>\n",
       "      <td>name stay existing hotel new one carry name sc...</td>\n",
       "      <td>1</td>\n",
       "    </tr>\n",
       "    <tr>\n",
       "      <th>4</th>\n",
       "      <td>TRUMP WAS RIGHT About CNN Being “Very Fake New...</td>\n",
       "      <td>Everyone laughing after Trump rebranded CNN as...</td>\n",
       "      <td>politics</td>\n",
       "      <td>Feb 17, 2017</td>\n",
       "      <td>trump right cnn fake news federal judge rule c...</td>\n",
       "      <td>everyone laughing trump rebranded cnn go netwo...</td>\n",
       "      <td>judge orinda evans declare cnn peddling falseh...</td>\n",
       "      <td>judge orinda evans declare cnn peddling falseh...</td>\n",
       "      <td>1</td>\n",
       "    </tr>\n",
       "  </tbody>\n",
       "</table>\n",
       "</div>"
      ],
      "text/plain": [
       "                                               title  \\\n",
       "0  Mistrial declared in corruption case against e...   \n",
       "1  China says hopes all parties can resolve North...   \n",
       "2   Ivanka Trump-Branded Cheapo Scarves Recalled ...   \n",
       "3   Trump Has Ruined His Own Name So Badly His Ho...   \n",
       "4  TRUMP WAS RIGHT About CNN Being “Very Fake New...   \n",
       "\n",
       "                                                text       subject  \\\n",
       "0  LOS ANGELES (Reuters) - A federal judge declar...  politicsNews   \n",
       "1  BEIJING (Reuters) - China s Foreign Ministry s...     worldnews   \n",
       "2  Ivanka Trump s stab at using her dad s name to...          News   \n",
       "3  Donald Trump probably thought that running for...          News   \n",
       "4  Everyone laughing after Trump rebranded CNN as...      politics   \n",
       "\n",
       "                 date                                      cleaned_title  \\\n",
       "0  December 22, 2016   mistrial declared corruption case angeles sher...   \n",
       "1  November 21, 2017   china say hope party resolve north korea issue...   \n",
       "2       April 7, 2016  ivanka trump branded cheapo scarf recalled eas...   \n",
       "3    October 21, 2016  trump ruined name badly hotel resort drastic s...   \n",
       "4        Feb 17, 2017  trump right cnn fake news federal judge rule c...   \n",
       "\n",
       "                                        cleaned_text  \\\n",
       "0  federal judge declared mistrial thursday obstr...   \n",
       "1  china foreign ministry said tuesday hoped part...   \n",
       "2  ivanka trump stab using dad name sell cheap pr...   \n",
       "3  donald trump probably thought running presiden...   \n",
       "4  everyone laughing trump rebranded cnn go netwo...   \n",
       "\n",
       "                                       cleaned_summ3  \\\n",
       "0  federal judge declared mistrial thursday obstr...   \n",
       "1  china foreign ministry said tuesday hoped part...   \n",
       "2  ivanka trump stab using dad name sell cheap pr...   \n",
       "3  name stay existing hotel new one carry name sc...   \n",
       "4  judge orinda evans declare cnn peddling falseh...   \n",
       "\n",
       "                                       cleaned_summ4  label  \n",
       "0  federal judge declared mistrial thursday obstr...      0  \n",
       "1  china foreign ministry said tuesday hoped part...      0  \n",
       "2  ivanka trump stab using dad name sell cheap pr...      1  \n",
       "3  name stay existing hotel new one carry name sc...      1  \n",
       "4  judge orinda evans declare cnn peddling falseh...      1  "
      ]
     },
     "execution_count": 30,
     "metadata": {},
     "output_type": "execute_result"
    }
   ],
   "source": [
    "# add label column with 1 for fakenews and 0 for realnews\n",
    "fakenews_pd['label'] = 1\n",
    "realnews_pd['label'] = 0\n",
    "\n",
    "# combine the dataframes, shuffle rows, and reset the index\n",
    "news = [fakenews_pd, realnews_pd]\n",
    "news_df = pd.concat(news).sample(frac = 1)\n",
    "news_df.reset_index(inplace=True)\n",
    "news_df.drop(columns = ['index'], inplace=True)\n",
    "news_df.head()"
   ]
  },
  {
   "cell_type": "code",
   "execution_count": 31,
   "metadata": {},
   "outputs": [],
   "source": [
    "# save data frame as pickle\n",
    "\n",
    "news_df.to_pickle(\"news_df.pkl\")"
   ]
  },
  {
   "cell_type": "code",
   "execution_count": 32,
   "metadata": {},
   "outputs": [],
   "source": [
    "# load saved pickle as dataframe\n",
    "\n",
    "news_df = pd.read_pickle(\"news_df.pkl\")"
   ]
  },
  {
   "cell_type": "code",
   "execution_count": 33,
   "metadata": {},
   "outputs": [],
   "source": [
    "# split data into training, validation, and test sets\n",
    "\n",
    "xtrainvalid1, xtest1, ytrainvalid1, ytest1 = train_test_split(news_df.cleaned_title.values, news_df.label, test_size=0.1, shuffle=True)\n",
    "xtrainvalid2, xtest2, ytrainvalid2, ytest2 = train_test_split(news_df.cleaned_text.values, news_df.label, test_size=0.1, shuffle=True)\n",
    "xtrainvalid3, xtest3, ytrainvalid3, ytest3 = train_test_split(news_df.cleaned_summ3.values, news_df.label, test_size=0.1, shuffle=True)\n",
    "xtrainvalid4, xtest4, ytrainvalid4, ytest4 = train_test_split(news_df.cleaned_summ4.values, news_df.label, test_size=0.1, shuffle=True)\n",
    "\n",
    "xtrain1, xvalid1, ytrain1, yvalid1 = train_test_split(xtrainvalid1, ytrainvalid1, test_size=0.1, shuffle=True)\n",
    "xtrain2, xvalid2, ytrain2, yvalid2 = train_test_split(xtrainvalid2, ytrainvalid2, test_size=0.1, shuffle=True)\n",
    "xtrain3, xvalid3, ytrain3, yvalid3 = train_test_split(xtrainvalid3, ytrainvalid3, test_size=0.1, shuffle=True)\n",
    "xtrain4, xvalid4, ytrain4, yvalid4 = train_test_split(xtrainvalid4, ytrainvalid4, test_size=0.1, shuffle=True)"
   ]
  },
  {
   "cell_type": "code",
   "execution_count": 34,
   "metadata": {},
   "outputs": [],
   "source": [
    "# declare hyperparameters\n",
    "\n",
    "VOCABULARY_SIZE = 20000\n",
    "MAX_LENGTH = 200"
   ]
  },
  {
   "cell_type": "code",
   "execution_count": 35,
   "metadata": {},
   "outputs": [],
   "source": [
    "# create embeddings index\n",
    "\n",
    "embeddings_index = {}\n",
    "\n",
    "f = open('./glove.6B.50d.txt',encoding='utf8')\n",
    "for line in f:\n",
    "    values = line.split()\n",
    "    word = values[0]\n",
    "    coefs = np.asarray(values[1:], dtype='float32')\n",
    "    embeddings_index[word] = coefs\n",
    "f.close()"
   ]
  },
  {
   "cell_type": "code",
   "execution_count": 36,
   "metadata": {},
   "outputs": [],
   "source": [
    "# create a vocabulary based on words in each training set\n",
    "\n",
    "tokenizer = Tokenizer(num_words=VOCABULARY_SIZE)\n",
    "tokenizer.fit_on_texts(list(xtrain1) + list(xvalid1) + list(xtest1))\n",
    "tokenizer.fit_on_texts(list(xtrain2) + list(xvalid2) + list(xtest2))\n",
    "tokenizer.fit_on_texts(list(xtrain3) + list(xvalid3) + list(xtest3))\n",
    "tokenizer.fit_on_texts(list(xtrain4) + list(xvalid4) + list(xtest4))"
   ]
  },
  {
   "cell_type": "code",
   "execution_count": 37,
   "metadata": {},
   "outputs": [],
   "source": [
    "# convert tokens to numerical sequences\n",
    "\n",
    "xtrain_sequence1 = tokenizer.texts_to_sequences(xtrain1)\n",
    "xvalid_sequence1 = tokenizer.texts_to_sequences(xvalid1)\n",
    "xtest_sequence1 = tokenizer.texts_to_sequences(xtest1)\n",
    "\n",
    "xtrain_sequence2 = tokenizer.texts_to_sequences(xtrain2)\n",
    "xvalid_sequence2 = tokenizer.texts_to_sequences(xvalid2)\n",
    "xtest_sequence2 = tokenizer.texts_to_sequences(xtest2)\n",
    "\n",
    "xtrain_sequence3 = tokenizer.texts_to_sequences(xtrain3)\n",
    "xvalid_sequence3 = tokenizer.texts_to_sequences(xvalid3)\n",
    "xtest_sequence3 = tokenizer.texts_to_sequences(xtest3)\n",
    "\n",
    "xtrain_sequence4 = tokenizer.texts_to_sequences(xtrain4)\n",
    "xvalid_sequence4 = tokenizer.texts_to_sequences(xvalid4)\n",
    "xtest_sequence4 = tokenizer.texts_to_sequences(xtest4)"
   ]
  },
  {
   "cell_type": "code",
   "execution_count": 38,
   "metadata": {},
   "outputs": [],
   "source": [
    "# import LSTM features\n",
    "\n",
    "from keras.models import Sequential\n",
    "from keras.layers import LSTM, GRU\n",
    "from keras.layers.core import Dense, Activation, Dropout\n",
    "from keras.layers import Embedding\n",
    "from keras.layers import BatchNormalization\n",
    "from keras.utils import np_utils, pad_sequences\n",
    "from keras.layers import GlobalMaxPooling1D, Conv1D, MaxPooling1D, Flatten, Bidirectional, SpatialDropout1D"
   ]
  },
  {
   "cell_type": "code",
   "execution_count": 39,
   "metadata": {},
   "outputs": [],
   "source": [
    "# pad sequences so all sequences are of equal length\n",
    "\n",
    "xtrain_padding1 = pad_sequences(xtrain_sequence1, maxlen=MAX_LENGTH)\n",
    "xvalid_padding1 = pad_sequences(xvalid_sequence1, maxlen=MAX_LENGTH)\n",
    "xtest_padding1 = pad_sequences(xtest_sequence1, maxlen=MAX_LENGTH)\n",
    "\n",
    "xtrain_padding2 = pad_sequences(xtrain_sequence2, maxlen=MAX_LENGTH)\n",
    "xvalid_padding2 = pad_sequences(xvalid_sequence2, maxlen=MAX_LENGTH)\n",
    "xtest_padding2 = pad_sequences(xtest_sequence2, maxlen=MAX_LENGTH)\n",
    "\n",
    "xtrain_padding3 = pad_sequences(xtrain_sequence3, maxlen=MAX_LENGTH)\n",
    "xvalid_padding3 = pad_sequences(xvalid_sequence3, maxlen=MAX_LENGTH)\n",
    "xtest_padding3 = pad_sequences(xtest_sequence3, maxlen=MAX_LENGTH)\n",
    "\n",
    "xtrain_padding4 = pad_sequences(xtrain_sequence4, maxlen=MAX_LENGTH)\n",
    "xvalid_padding4 = pad_sequences(xvalid_sequence4, maxlen=MAX_LENGTH)\n",
    "xtest_padding4 = pad_sequences(xtest_sequence4, maxlen=MAX_LENGTH)\n",
    "\n",
    "word_index = tokenizer.word_index"
   ]
  },
  {
   "cell_type": "code",
   "execution_count": 40,
   "metadata": {},
   "outputs": [],
   "source": [
    "# create embedding matrix \n",
    "\n",
    "embedding_matrix = np.zeros((len(word_index) + 1, 50))\n",
    "for word, i in word_index.items():\n",
    "    embedding_vector = embeddings_index.get(word)\n",
    "    if embedding_vector is not None:\n",
    "        embedding_matrix[i] = embedding_vector"
   ]
  },
  {
   "cell_type": "code",
   "execution_count": 41,
   "metadata": {},
   "outputs": [],
   "source": [
    "# encode binary labels as sparse vectors\n",
    "\n",
    "ytrain_encode1 = np_utils.to_categorical(ytrain1)\n",
    "yvalid_encode1 = np_utils.to_categorical(yvalid1)\n",
    "ytest_encode1 = np_utils.to_categorical(ytest1)\n",
    "\n",
    "ytrain_encode2 = np_utils.to_categorical(ytrain2)\n",
    "yvalid_encode2 = np_utils.to_categorical(yvalid2)\n",
    "ytest_encode2 = np_utils.to_categorical(ytest2)\n",
    "\n",
    "ytrain_encode3 = np_utils.to_categorical(ytrain3)\n",
    "yvalid_encode3 = np_utils.to_categorical(yvalid3)\n",
    "ytest_encode3 = np_utils.to_categorical(ytest3)\n",
    "\n",
    "ytrain_encode4 = np_utils.to_categorical(ytrain4)\n",
    "yvalid_encode4 = np_utils.to_categorical(yvalid4)\n",
    "ytest_encode4 = np_utils.to_categorical(ytest4)"
   ]
  },
  {
   "cell_type": "code",
   "execution_count": 42,
   "metadata": {},
   "outputs": [
    {
     "name": "stdout",
     "output_type": "stream",
     "text": [
      "WARNING:tensorflow:Layer lstm will not use cuDNN kernels since it doesn't meet the criteria. It will use a generic GPU kernel as fallback when running on GPU.\n",
      "WARNING:tensorflow:Layer lstm will not use cuDNN kernels since it doesn't meet the criteria. It will use a generic GPU kernel as fallback when running on GPU.\n",
      "WARNING:tensorflow:Layer lstm will not use cuDNN kernels since it doesn't meet the criteria. It will use a generic GPU kernel as fallback when running on GPU.\n"
     ]
    },
    {
     "name": "stderr",
     "output_type": "stream",
     "text": [
      "2022-12-12 18:09:49.791319: I tensorflow/stream_executor/cuda/cuda_gpu_executor.cc:980] successful NUMA node read from SysFS had negative value (-1), but there must be at least one NUMA node, so returning NUMA node zero\n",
      "2022-12-12 18:09:49.803302: I tensorflow/stream_executor/cuda/cuda_gpu_executor.cc:980] successful NUMA node read from SysFS had negative value (-1), but there must be at least one NUMA node, so returning NUMA node zero\n",
      "2022-12-12 18:09:49.803718: I tensorflow/stream_executor/cuda/cuda_gpu_executor.cc:980] successful NUMA node read from SysFS had negative value (-1), but there must be at least one NUMA node, so returning NUMA node zero\n",
      "2022-12-12 18:09:49.804280: I tensorflow/core/platform/cpu_feature_guard.cc:193] This TensorFlow binary is optimized with oneAPI Deep Neural Network Library (oneDNN) to use the following CPU instructions in performance-critical operations:  SSE4.1 SSE4.2 AVX AVX2 FMA\n",
      "To enable them in other operations, rebuild TensorFlow with the appropriate compiler flags.\n",
      "2022-12-12 18:09:49.804932: I tensorflow/stream_executor/cuda/cuda_gpu_executor.cc:980] successful NUMA node read from SysFS had negative value (-1), but there must be at least one NUMA node, so returning NUMA node zero\n",
      "2022-12-12 18:09:49.805249: I tensorflow/stream_executor/cuda/cuda_gpu_executor.cc:980] successful NUMA node read from SysFS had negative value (-1), but there must be at least one NUMA node, so returning NUMA node zero\n",
      "2022-12-12 18:09:49.805523: I tensorflow/stream_executor/cuda/cuda_gpu_executor.cc:980] successful NUMA node read from SysFS had negative value (-1), but there must be at least one NUMA node, so returning NUMA node zero\n",
      "2022-12-12 18:09:50.295332: I tensorflow/stream_executor/cuda/cuda_gpu_executor.cc:980] successful NUMA node read from SysFS had negative value (-1), but there must be at least one NUMA node, so returning NUMA node zero\n",
      "2022-12-12 18:09:50.295635: I tensorflow/stream_executor/cuda/cuda_gpu_executor.cc:980] successful NUMA node read from SysFS had negative value (-1), but there must be at least one NUMA node, so returning NUMA node zero\n",
      "2022-12-12 18:09:50.295870: I tensorflow/stream_executor/cuda/cuda_gpu_executor.cc:980] successful NUMA node read from SysFS had negative value (-1), but there must be at least one NUMA node, so returning NUMA node zero\n",
      "2022-12-12 18:09:50.296124: I tensorflow/core/common_runtime/gpu/gpu_device.cc:1616] Created device /job:localhost/replica:0/task:0/device:GPU:0 with 2048 MB memory:  -> device: 0, name: NVIDIA GeForce RTX 3050 Ti Laptop GPU, pci bus id: 0000:01:00.0, compute capability: 8.6\n"
     ]
    }
   ],
   "source": [
    "# create bidirectional LSTM model for titles\n",
    "\n",
    "model1 = Sequential()\n",
    "model1.add(Embedding(len(word_index) + 1,\n",
    " 50,\n",
    " weights=[embedding_matrix],\n",
    " input_length=MAX_LENGTH,\n",
    " trainable=False))\n",
    "model1.add(SpatialDropout1D(0.3))\n",
    "model1.add(Bidirectional(LSTM(100, dropout=0.3, recurrent_dropout=0.3)))\n",
    "model1.add(Dense(1024, activation='relu'))\n",
    "model1.add(Dropout(0.8))\n",
    "model1.add(Dense(1024, activation='relu'))\n",
    "model1.add(Dropout(0.8))\n",
    "model1.add(Dense(2))\n",
    "model1.add(Activation('sigmoid'))\n",
    "model1.compile(loss='categorical_crossentropy', optimizer='adam', metrics=['accuracy'])"
   ]
  },
  {
   "cell_type": "code",
   "execution_count": 43,
   "metadata": {},
   "outputs": [
    {
     "name": "stdout",
     "output_type": "stream",
     "text": [
      "Epoch 1/20\n"
     ]
    },
    {
     "name": "stderr",
     "output_type": "stream",
     "text": [
      "2022-12-12 18:09:54.867412: I tensorflow/stream_executor/cuda/cuda_blas.cc:1614] TensorFloat-32 will be used for the matrix multiplication. This will only be logged once.\n"
     ]
    },
    {
     "name": "stdout",
     "output_type": "stream",
     "text": [
      "71/71 [==============================] - 50s 650ms/step - loss: 0.4139 - accuracy: 0.8053 - val_loss: 0.2771 - val_accuracy: 0.8891\n",
      "Epoch 2/20\n",
      "71/71 [==============================] - 46s 643ms/step - loss: 0.3092 - accuracy: 0.8669 - val_loss: 0.2325 - val_accuracy: 0.9056\n",
      "Epoch 3/20\n",
      "71/71 [==============================] - 44s 620ms/step - loss: 0.2833 - accuracy: 0.8804 - val_loss: 0.2159 - val_accuracy: 0.9132\n",
      "Epoch 4/20\n",
      "71/71 [==============================] - 44s 619ms/step - loss: 0.2667 - accuracy: 0.8881 - val_loss: 0.2062 - val_accuracy: 0.9199\n",
      "Epoch 5/20\n",
      "71/71 [==============================] - 45s 629ms/step - loss: 0.2544 - accuracy: 0.8928 - val_loss: 0.1988 - val_accuracy: 0.9179\n",
      "Epoch 6/20\n",
      "71/71 [==============================] - 44s 620ms/step - loss: 0.2433 - accuracy: 0.8981 - val_loss: 0.1959 - val_accuracy: 0.9227\n",
      "Epoch 7/20\n",
      "71/71 [==============================] - 44s 626ms/step - loss: 0.2374 - accuracy: 0.9019 - val_loss: 0.1903 - val_accuracy: 0.9207\n",
      "Epoch 8/20\n",
      "71/71 [==============================] - 45s 631ms/step - loss: 0.2335 - accuracy: 0.9020 - val_loss: 0.1868 - val_accuracy: 0.9194\n",
      "Epoch 9/20\n",
      "71/71 [==============================] - 45s 637ms/step - loss: 0.2268 - accuracy: 0.9051 - val_loss: 0.1846 - val_accuracy: 0.9220\n",
      "Epoch 10/20\n",
      "71/71 [==============================] - 42s 595ms/step - loss: 0.2222 - accuracy: 0.9082 - val_loss: 0.1882 - val_accuracy: 0.9227\n",
      "Epoch 11/20\n",
      "71/71 [==============================] - 42s 593ms/step - loss: 0.2148 - accuracy: 0.9118 - val_loss: 0.1838 - val_accuracy: 0.9267\n",
      "Epoch 12/20\n",
      "71/71 [==============================] - 42s 592ms/step - loss: 0.2150 - accuracy: 0.9108 - val_loss: 0.1765 - val_accuracy: 0.9240\n",
      "Epoch 13/20\n",
      "71/71 [==============================] - 45s 640ms/step - loss: 0.2164 - accuracy: 0.9106 - val_loss: 0.1733 - val_accuracy: 0.9285\n",
      "Epoch 14/20\n",
      "71/71 [==============================] - 46s 655ms/step - loss: 0.2117 - accuracy: 0.9118 - val_loss: 0.1730 - val_accuracy: 0.9262\n",
      "Epoch 15/20\n",
      "71/71 [==============================] - 44s 624ms/step - loss: 0.2103 - accuracy: 0.9141 - val_loss: 0.1686 - val_accuracy: 0.9322\n",
      "Epoch 16/20\n",
      "71/71 [==============================] - 43s 612ms/step - loss: 0.2046 - accuracy: 0.9169 - val_loss: 0.1748 - val_accuracy: 0.9285\n",
      "Epoch 17/20\n",
      "71/71 [==============================] - 43s 599ms/step - loss: 0.2015 - accuracy: 0.9169 - val_loss: 0.1814 - val_accuracy: 0.9230\n",
      "Epoch 18/20\n",
      "71/71 [==============================] - 43s 604ms/step - loss: 0.2079 - accuracy: 0.9145 - val_loss: 0.1704 - val_accuracy: 0.9315\n",
      "Epoch 19/20\n",
      "71/71 [==============================] - 43s 602ms/step - loss: 0.2022 - accuracy: 0.9169 - val_loss: 0.1680 - val_accuracy: 0.9312\n",
      "Epoch 20/20\n",
      "71/71 [==============================] - 44s 624ms/step - loss: 0.1996 - accuracy: 0.9193 - val_loss: 0.1719 - val_accuracy: 0.9322\n"
     ]
    }
   ],
   "source": [
    "# fit title model with the training data\n",
    "\n",
    "history1 = model1.fit(xtrain_padding1, y=ytrain_encode1, batch_size=512, validation_data=(xvalid_padding1, yvalid_encode1), epochs=20)"
   ]
  },
  {
   "cell_type": "code",
   "execution_count": 44,
   "metadata": {},
   "outputs": [
    {
     "name": "stdout",
     "output_type": "stream",
     "text": [
      "INFO:tensorflow:Assets written to: title_b.hd5/assets\n"
     ]
    }
   ],
   "source": [
    "# save title model\n",
    "\n",
    "model1.save(\"title_b.hd5\")"
   ]
  },
  {
   "cell_type": "code",
   "execution_count": 45,
   "metadata": {},
   "outputs": [
    {
     "name": "stdout",
     "output_type": "stream",
     "text": [
      "9/9 [==============================] - 1s 69ms/step\n"
     ]
    }
   ],
   "source": [
    "# predict on test set\n",
    "\n",
    "y_pred1 = model1.predict(x = xtest_padding1, batch_size = 512)"
   ]
  },
  {
   "cell_type": "code",
   "execution_count": 46,
   "metadata": {},
   "outputs": [],
   "source": [
    "# convert the prediction probability scores to binaries\n",
    "\n",
    "threshold = 0.5\n",
    "y_pred_class1 = np.where(y_pred1 > threshold, 1, 0)\n",
    "\n",
    "\n",
    "y_pred_int1 = []\n",
    "for i in range(len(y_pred_class1)):\n",
    "    if y_pred_class1[i][0] == 1:\n",
    "        y_pred_int1.append(0)\n",
    "    elif y_pred_class1[i][0] == 0:\n",
    "        y_pred_int1.append(1)"
   ]
  },
  {
   "cell_type": "code",
   "execution_count": 47,
   "metadata": {},
   "outputs": [
    {
     "data": {
      "text/plain": [
       "array([[2056,  187],\n",
       "       [ 105, 2079]])"
      ]
     },
     "execution_count": 47,
     "metadata": {},
     "output_type": "execute_result"
    }
   ],
   "source": [
    "# calculate confusion matrix\n",
    "\n",
    "from sklearn.metrics import confusion_matrix\n",
    "\n",
    "cm1 = confusion_matrix(y_pred_int1, ytest1)\n",
    "cm1"
   ]
  },
  {
   "cell_type": "code",
   "execution_count": 48,
   "metadata": {},
   "outputs": [
    {
     "name": "stdout",
     "output_type": "stream",
     "text": [
      "['titles', 0.9174757281553398, 0.9519230769230769, 0.9340411113620962]\n"
     ]
    }
   ],
   "source": [
    "# calculate prediction score\n",
    "\n",
    "from sklearn.metrics import precision_score, recall_score, accuracy_score\n",
    "\n",
    "p1 = precision_score(y_pred_int1, ytest1)\n",
    "r1 = recall_score(y_pred_int1, ytest1)\n",
    "a1 = accuracy_score(y_pred_int1, ytest1)\n",
    "perf1 = [\"titles\",p1,r1,a1]\n",
    "print(perf1)"
   ]
  },
  {
   "cell_type": "code",
   "execution_count": 49,
   "metadata": {},
   "outputs": [
    {
     "name": "stdout",
     "output_type": "stream",
     "text": [
      "WARNING:tensorflow:Layer lstm_1 will not use cuDNN kernels since it doesn't meet the criteria. It will use a generic GPU kernel as fallback when running on GPU.\n",
      "WARNING:tensorflow:Layer lstm_1 will not use cuDNN kernels since it doesn't meet the criteria. It will use a generic GPU kernel as fallback when running on GPU.\n",
      "WARNING:tensorflow:Layer lstm_1 will not use cuDNN kernels since it doesn't meet the criteria. It will use a generic GPU kernel as fallback when running on GPU.\n"
     ]
    }
   ],
   "source": [
    "# create bidirectional LSTM model for whole texts\n",
    "\n",
    "model2 = Sequential()\n",
    "model2.add(Embedding(len(word_index) + 1,\n",
    " 50,\n",
    " weights=[embedding_matrix],\n",
    " input_length=MAX_LENGTH,\n",
    " trainable=False))\n",
    "model2.add(SpatialDropout1D(0.3))\n",
    "model2.add(Bidirectional(LSTM(100, dropout=0.3, recurrent_dropout=0.3)))\n",
    "model2.add(Dense(1024, activation='relu'))\n",
    "model2.add(Dropout(0.8))\n",
    "model2.add(Dense(1024, activation='relu'))\n",
    "model2.add(Dropout(0.8))\n",
    "model2.add(Dense(2))\n",
    "model2.add(Activation('sigmoid'))\n",
    "model2.compile(loss='categorical_crossentropy', optimizer='adam', metrics=['accuracy'])"
   ]
  },
  {
   "cell_type": "code",
   "execution_count": 50,
   "metadata": {},
   "outputs": [
    {
     "name": "stdout",
     "output_type": "stream",
     "text": [
      "Epoch 1/30\n",
      "71/71 [==============================] - 46s 613ms/step - loss: 0.3840 - accuracy: 0.8262 - val_loss: 0.2073 - val_accuracy: 0.9230\n",
      "Epoch 2/30\n",
      "71/71 [==============================] - 43s 608ms/step - loss: 0.2597 - accuracy: 0.8974 - val_loss: 0.1841 - val_accuracy: 0.9315\n",
      "Epoch 3/30\n",
      "71/71 [==============================] - 42s 597ms/step - loss: 0.2305 - accuracy: 0.9120 - val_loss: 0.3660 - val_accuracy: 0.8876\n",
      "Epoch 4/30\n",
      "71/71 [==============================] - 43s 605ms/step - loss: 0.2115 - accuracy: 0.9211 - val_loss: 0.2890 - val_accuracy: 0.9089\n",
      "Epoch 5/30\n",
      "71/71 [==============================] - 43s 600ms/step - loss: 0.1845 - accuracy: 0.9321 - val_loss: 0.1463 - val_accuracy: 0.9513\n",
      "Epoch 6/30\n",
      "71/71 [==============================] - 42s 597ms/step - loss: 0.1885 - accuracy: 0.9307 - val_loss: 0.1576 - val_accuracy: 0.9496\n",
      "Epoch 7/30\n",
      "71/71 [==============================] - 43s 605ms/step - loss: 0.1698 - accuracy: 0.9378 - val_loss: 0.3355 - val_accuracy: 0.9046\n",
      "Epoch 8/30\n",
      "71/71 [==============================] - 45s 632ms/step - loss: 0.1493 - accuracy: 0.9460 - val_loss: 0.2411 - val_accuracy: 0.9358\n",
      "Epoch 9/30\n",
      "71/71 [==============================] - 44s 613ms/step - loss: 0.1445 - accuracy: 0.9480 - val_loss: 0.2726 - val_accuracy: 0.9129\n",
      "Epoch 10/30\n",
      "71/71 [==============================] - 42s 591ms/step - loss: 0.1499 - accuracy: 0.9471 - val_loss: 0.3154 - val_accuracy: 0.9222\n",
      "Epoch 11/30\n",
      "71/71 [==============================] - 42s 592ms/step - loss: 0.1401 - accuracy: 0.9501 - val_loss: 0.1146 - val_accuracy: 0.9609\n",
      "Epoch 12/30\n",
      "71/71 [==============================] - 44s 613ms/step - loss: 0.1301 - accuracy: 0.9545 - val_loss: 0.1776 - val_accuracy: 0.9307\n",
      "Epoch 13/30\n",
      "71/71 [==============================] - 44s 624ms/step - loss: 0.1234 - accuracy: 0.9564 - val_loss: 0.1304 - val_accuracy: 0.9541\n",
      "Epoch 14/30\n",
      "71/71 [==============================] - 42s 592ms/step - loss: 0.1251 - accuracy: 0.9555 - val_loss: 0.1614 - val_accuracy: 0.9420\n",
      "Epoch 15/30\n",
      "71/71 [==============================] - 42s 590ms/step - loss: 0.1167 - accuracy: 0.9603 - val_loss: 0.1288 - val_accuracy: 0.9583\n",
      "Epoch 16/30\n",
      "71/71 [==============================] - 42s 597ms/step - loss: 0.1202 - accuracy: 0.9576 - val_loss: 0.1476 - val_accuracy: 0.9538\n",
      "Epoch 17/30\n",
      "71/71 [==============================] - 42s 598ms/step - loss: 0.1127 - accuracy: 0.9602 - val_loss: 0.1197 - val_accuracy: 0.9654\n",
      "Epoch 18/30\n",
      "71/71 [==============================] - 43s 613ms/step - loss: 0.1070 - accuracy: 0.9624 - val_loss: 0.0913 - val_accuracy: 0.9714\n",
      "Epoch 19/30\n",
      "71/71 [==============================] - 45s 633ms/step - loss: 0.1149 - accuracy: 0.9586 - val_loss: 0.1249 - val_accuracy: 0.9604\n",
      "Epoch 20/30\n",
      "71/71 [==============================] - 43s 609ms/step - loss: 0.1005 - accuracy: 0.9644 - val_loss: 0.0980 - val_accuracy: 0.9671\n",
      "Epoch 21/30\n",
      "71/71 [==============================] - 43s 613ms/step - loss: 0.1079 - accuracy: 0.9616 - val_loss: 0.0984 - val_accuracy: 0.9709\n",
      "Epoch 22/30\n",
      "71/71 [==============================] - 43s 603ms/step - loss: 0.0985 - accuracy: 0.9660 - val_loss: 0.1572 - val_accuracy: 0.9478\n",
      "Epoch 23/30\n",
      "71/71 [==============================] - 44s 614ms/step - loss: 0.1198 - accuracy: 0.9568 - val_loss: 0.1624 - val_accuracy: 0.9531\n",
      "Epoch 24/30\n",
      "71/71 [==============================] - 44s 615ms/step - loss: 0.0956 - accuracy: 0.9666 - val_loss: 0.0976 - val_accuracy: 0.9664\n",
      "Epoch 25/30\n",
      "71/71 [==============================] - 42s 596ms/step - loss: 0.0936 - accuracy: 0.9677 - val_loss: 0.1074 - val_accuracy: 0.9704\n",
      "Epoch 26/30\n",
      "71/71 [==============================] - 43s 610ms/step - loss: 0.0872 - accuracy: 0.9691 - val_loss: 0.1606 - val_accuracy: 0.9553\n",
      "Epoch 27/30\n",
      "71/71 [==============================] - 43s 601ms/step - loss: 0.0949 - accuracy: 0.9676 - val_loss: 0.1688 - val_accuracy: 0.9471\n",
      "Epoch 28/30\n",
      "71/71 [==============================] - 43s 608ms/step - loss: 0.1024 - accuracy: 0.9631 - val_loss: 0.0849 - val_accuracy: 0.9706\n",
      "Epoch 29/30\n",
      "71/71 [==============================] - 43s 609ms/step - loss: 0.0888 - accuracy: 0.9701 - val_loss: 0.0831 - val_accuracy: 0.9742\n",
      "Epoch 30/30\n",
      "71/71 [==============================] - 43s 602ms/step - loss: 0.0838 - accuracy: 0.9705 - val_loss: 0.1063 - val_accuracy: 0.9676\n"
     ]
    }
   ],
   "source": [
    "# fit model with the training data\n",
    "\n",
    "history2 = model2.fit(xtrain_padding2, y=ytrain_encode2, batch_size=512, validation_data=(xvalid_padding2, yvalid_encode2), epochs=30)"
   ]
  },
  {
   "cell_type": "code",
   "execution_count": 51,
   "metadata": {},
   "outputs": [
    {
     "name": "stdout",
     "output_type": "stream",
     "text": [
      "INFO:tensorflow:Assets written to: full_text_b.hd5/assets\n"
     ]
    }
   ],
   "source": [
    "# save whole text model data\n",
    "\n",
    "model2.save(\"full_text_b.hd5\")"
   ]
  },
  {
   "cell_type": "code",
   "execution_count": 52,
   "metadata": {},
   "outputs": [
    {
     "name": "stdout",
     "output_type": "stream",
     "text": [
      "9/9 [==============================] - 1s 67ms/step\n"
     ]
    }
   ],
   "source": [
    "# predict on test set\n",
    "\n",
    "y_pred2 = model2.predict(x = xtest_padding2, batch_size = 512)"
   ]
  },
  {
   "cell_type": "code",
   "execution_count": 53,
   "metadata": {},
   "outputs": [],
   "source": [
    "# convert probabilities to binaries\n",
    "\n",
    "threshold = 0.5\n",
    "y_pred_class2 = np.where(y_pred2 > threshold, 1, 0)\n",
    "y_pred_int2 = []\n",
    "for i in range(len(y_pred_class2)):\n",
    "    if y_pred_class2[i][0] == 1:\n",
    "        y_pred_int2.append(0)\n",
    "    elif y_pred_class2[i][0] == 0:\n",
    "        y_pred_int2.append(1)"
   ]
  },
  {
   "cell_type": "code",
   "execution_count": 54,
   "metadata": {},
   "outputs": [
    {
     "data": {
      "text/plain": [
       "array([[2002,   20],\n",
       "       [ 134, 2271]])"
      ]
     },
     "execution_count": 54,
     "metadata": {},
     "output_type": "execute_result"
    }
   ],
   "source": [
    "# calculate confusion matrix\n",
    "\n",
    "from sklearn.metrics import confusion_matrix\n",
    "\n",
    "cm2 = confusion_matrix(y_pred_int2, ytest2)\n",
    "cm2"
   ]
  },
  {
   "cell_type": "code",
   "execution_count": 55,
   "metadata": {},
   "outputs": [
    {
     "name": "stdout",
     "output_type": "stream",
     "text": [
      "['whole texts', 0.9912701876909646, 0.9442827442827443, 0.9652134628416534]\n"
     ]
    }
   ],
   "source": [
    "# calculate performance scores\n",
    "\n",
    "p2 = precision_score(y_pred_int2, ytest2)\n",
    "r2 = recall_score(y_pred_int2, ytest2)\n",
    "a2 = accuracy_score(y_pred_int2, ytest2)\n",
    "perf2 = [\"whole texts\",p2,r2,a2]\n",
    "print(perf2)"
   ]
  },
  {
   "cell_type": "code",
   "execution_count": 56,
   "metadata": {},
   "outputs": [
    {
     "name": "stdout",
     "output_type": "stream",
     "text": [
      "WARNING:tensorflow:Layer lstm_2 will not use cuDNN kernels since it doesn't meet the criteria. It will use a generic GPU kernel as fallback when running on GPU.\n",
      "WARNING:tensorflow:Layer lstm_2 will not use cuDNN kernels since it doesn't meet the criteria. It will use a generic GPU kernel as fallback when running on GPU.\n",
      "WARNING:tensorflow:Layer lstm_2 will not use cuDNN kernels since it doesn't meet the criteria. It will use a generic GPU kernel as fallback when running on GPU.\n"
     ]
    }
   ],
   "source": [
    "# create bidirectional LSTM model for 3 sentence summaries\n",
    "\n",
    "model3 = Sequential()\n",
    "model3.add(Embedding(len(word_index) + 1,\n",
    " 50,\n",
    " weights=[embedding_matrix],\n",
    " input_length=MAX_LENGTH,\n",
    " trainable=False))\n",
    "model3.add(SpatialDropout1D(0.3))\n",
    "model3.add(Bidirectional(LSTM(100, dropout=0.3, recurrent_dropout=0.3)))\n",
    "model3.add(Dense(1024, activation='relu'))\n",
    "model3.add(Dropout(0.8))\n",
    "model3.add(Dense(1024, activation='relu'))\n",
    "model3.add(Dropout(0.8))\n",
    "model3.add(Dense(2))\n",
    "model3.add(Activation('sigmoid'))\n",
    "model3.compile(loss='categorical_crossentropy', optimizer='adam', metrics=['accuracy'])"
   ]
  },
  {
   "cell_type": "code",
   "execution_count": 57,
   "metadata": {},
   "outputs": [
    {
     "name": "stdout",
     "output_type": "stream",
     "text": [
      "Epoch 1/30\n",
      "71/71 [==============================] - 45s 603ms/step - loss: 0.4671 - accuracy: 0.7809 - val_loss: 0.4780 - val_accuracy: 0.8296\n",
      "Epoch 2/30\n",
      "71/71 [==============================] - 42s 598ms/step - loss: 0.3526 - accuracy: 0.8605 - val_loss: 0.5565 - val_accuracy: 0.8113\n",
      "Epoch 3/30\n",
      "71/71 [==============================] - 42s 591ms/step - loss: 0.3150 - accuracy: 0.8757 - val_loss: 0.3395 - val_accuracy: 0.9051\n",
      "Epoch 4/30\n",
      "71/71 [==============================] - 42s 596ms/step - loss: 0.2829 - accuracy: 0.8889 - val_loss: 0.2680 - val_accuracy: 0.9084\n",
      "Epoch 5/30\n",
      "71/71 [==============================] - 43s 607ms/step - loss: 0.2600 - accuracy: 0.8995 - val_loss: 0.4276 - val_accuracy: 0.8452\n",
      "Epoch 6/30\n",
      "71/71 [==============================] - 43s 601ms/step - loss: 0.2475 - accuracy: 0.9024 - val_loss: 0.2741 - val_accuracy: 0.9034\n",
      "Epoch 7/30\n",
      "71/71 [==============================] - 43s 602ms/step - loss: 0.2372 - accuracy: 0.9067 - val_loss: 0.2438 - val_accuracy: 0.9290\n",
      "Epoch 8/30\n",
      "71/71 [==============================] - 42s 595ms/step - loss: 0.2297 - accuracy: 0.9109 - val_loss: 0.2786 - val_accuracy: 0.9240\n",
      "Epoch 9/30\n",
      "71/71 [==============================] - 43s 602ms/step - loss: 0.2300 - accuracy: 0.9104 - val_loss: 0.2376 - val_accuracy: 0.9270\n",
      "Epoch 10/30\n",
      "71/71 [==============================] - 44s 613ms/step - loss: 0.2185 - accuracy: 0.9142 - val_loss: 0.3813 - val_accuracy: 0.9021\n",
      "Epoch 11/30\n",
      "71/71 [==============================] - 43s 609ms/step - loss: 0.2125 - accuracy: 0.9165 - val_loss: 0.2137 - val_accuracy: 0.9285\n",
      "Epoch 12/30\n",
      "71/71 [==============================] - 43s 611ms/step - loss: 0.2085 - accuracy: 0.9201 - val_loss: 0.2081 - val_accuracy: 0.9297\n",
      "Epoch 13/30\n",
      "71/71 [==============================] - 43s 604ms/step - loss: 0.2122 - accuracy: 0.9186 - val_loss: 0.1960 - val_accuracy: 0.9365\n",
      "Epoch 14/30\n",
      "71/71 [==============================] - 43s 605ms/step - loss: 0.2079 - accuracy: 0.9185 - val_loss: 0.2171 - val_accuracy: 0.9340\n",
      "Epoch 15/30\n",
      "71/71 [==============================] - 43s 601ms/step - loss: 0.2022 - accuracy: 0.9227 - val_loss: 0.2290 - val_accuracy: 0.9159\n",
      "Epoch 16/30\n",
      "71/71 [==============================] - 43s 603ms/step - loss: 0.2205 - accuracy: 0.9170 - val_loss: 0.2692 - val_accuracy: 0.9114\n",
      "Epoch 17/30\n",
      "71/71 [==============================] - 43s 606ms/step - loss: 0.2019 - accuracy: 0.9221 - val_loss: 0.2395 - val_accuracy: 0.9338\n",
      "Epoch 18/30\n",
      "71/71 [==============================] - 42s 596ms/step - loss: 0.1943 - accuracy: 0.9253 - val_loss: 0.1717 - val_accuracy: 0.9423\n",
      "Epoch 19/30\n",
      "71/71 [==============================] - 42s 593ms/step - loss: 0.2299 - accuracy: 0.9126 - val_loss: 0.1658 - val_accuracy: 0.9428\n",
      "Epoch 20/30\n",
      "71/71 [==============================] - 42s 597ms/step - loss: 0.1920 - accuracy: 0.9260 - val_loss: 0.1889 - val_accuracy: 0.9413\n",
      "Epoch 21/30\n",
      "71/71 [==============================] - 43s 602ms/step - loss: 0.1880 - accuracy: 0.9284 - val_loss: 0.1807 - val_accuracy: 0.9423\n",
      "Epoch 22/30\n",
      "71/71 [==============================] - 42s 589ms/step - loss: 0.1800 - accuracy: 0.9311 - val_loss: 0.1865 - val_accuracy: 0.9393\n",
      "Epoch 23/30\n",
      "71/71 [==============================] - 42s 592ms/step - loss: 0.1828 - accuracy: 0.9315 - val_loss: 0.1991 - val_accuracy: 0.9343\n",
      "Epoch 24/30\n",
      "71/71 [==============================] - 43s 601ms/step - loss: 0.1778 - accuracy: 0.9311 - val_loss: 0.1846 - val_accuracy: 0.9458\n",
      "Epoch 25/30\n",
      "71/71 [==============================] - 43s 600ms/step - loss: 0.1816 - accuracy: 0.9309 - val_loss: 0.1608 - val_accuracy: 0.9465\n",
      "Epoch 26/30\n",
      "71/71 [==============================] - 43s 604ms/step - loss: 0.1838 - accuracy: 0.9296 - val_loss: 0.1823 - val_accuracy: 0.9438\n",
      "Epoch 27/30\n",
      "71/71 [==============================] - 43s 604ms/step - loss: 0.1829 - accuracy: 0.9291 - val_loss: 0.1637 - val_accuracy: 0.9458\n",
      "Epoch 28/30\n",
      "71/71 [==============================] - 42s 596ms/step - loss: 0.1750 - accuracy: 0.9337 - val_loss: 0.2351 - val_accuracy: 0.9330\n",
      "Epoch 29/30\n",
      "71/71 [==============================] - 42s 588ms/step - loss: 0.1866 - accuracy: 0.9284 - val_loss: 0.1929 - val_accuracy: 0.9425\n",
      "Epoch 30/30\n",
      "71/71 [==============================] - 42s 589ms/step - loss: 0.1774 - accuracy: 0.9338 - val_loss: 0.2007 - val_accuracy: 0.9420\n"
     ]
    }
   ],
   "source": [
    "# fit model with the training data\n",
    "\n",
    "history3 = model3.fit(xtrain_padding3, y=ytrain_encode3, batch_size=512, validation_data=(xvalid_padding3, yvalid_encode3), epochs=30)"
   ]
  },
  {
   "cell_type": "code",
   "execution_count": 58,
   "metadata": {},
   "outputs": [
    {
     "name": "stdout",
     "output_type": "stream",
     "text": [
      "INFO:tensorflow:Assets written to: summary3_b.hd5/assets\n"
     ]
    }
   ],
   "source": [
    "# save 3 sentence summary model data\n",
    "\n",
    "model3.save(\"summary3_b.hd5\")"
   ]
  },
  {
   "cell_type": "code",
   "execution_count": 59,
   "metadata": {},
   "outputs": [
    {
     "name": "stdout",
     "output_type": "stream",
     "text": [
      "9/9 [==============================] - 1s 69ms/step\n"
     ]
    }
   ],
   "source": [
    "# predict on test set\n",
    "\n",
    "y_pred3 = model3.predict(x = xtest_padding3, batch_size = 512)"
   ]
  },
  {
   "cell_type": "code",
   "execution_count": 60,
   "metadata": {},
   "outputs": [],
   "source": [
    "# convert probabilities to binaries\n",
    "\n",
    "threshold = 0.5\n",
    "y_pred_class3 = np.where(y_pred3 > threshold, 1, 0)\n",
    "y_pred_int3 = []\n",
    "for i in range(len(y_pred_class3)):\n",
    "    if y_pred_class3[i][0] == 1:\n",
    "        y_pred_int3.append(0)\n",
    "    elif y_pred_class3[i][0] == 0:\n",
    "        y_pred_int3.append(1)"
   ]
  },
  {
   "cell_type": "code",
   "execution_count": 61,
   "metadata": {},
   "outputs": [
    {
     "data": {
      "text/plain": [
       "array([[1978,   49],\n",
       "       [ 186, 2214]])"
      ]
     },
     "execution_count": 61,
     "metadata": {},
     "output_type": "execute_result"
    }
   ],
   "source": [
    "# calculate confusion matrix\n",
    "\n",
    "from sklearn.metrics import confusion_matrix\n",
    "\n",
    "cm3 = confusion_matrix(y_pred_int3, ytest3)\n",
    "cm3"
   ]
  },
  {
   "cell_type": "code",
   "execution_count": 62,
   "metadata": {},
   "outputs": [
    {
     "name": "stdout",
     "output_type": "stream",
     "text": [
      "['summ3', 0.9783473265576668, 0.9225, 0.946916647842783]\n"
     ]
    }
   ],
   "source": [
    "# calculate performance measures\n",
    "\n",
    "p3 = precision_score(y_pred_int3, ytest3)\n",
    "r3 = recall_score(y_pred_int3, ytest3)\n",
    "a3 = accuracy_score(y_pred_int3, ytest3)\n",
    "perf3 = [\"summ3\",p3,r3,a3]\n",
    "print(perf3)"
   ]
  },
  {
   "cell_type": "code",
   "execution_count": 63,
   "metadata": {},
   "outputs": [
    {
     "name": "stdout",
     "output_type": "stream",
     "text": [
      "WARNING:tensorflow:Layer lstm_3 will not use cuDNN kernels since it doesn't meet the criteria. It will use a generic GPU kernel as fallback when running on GPU.\n",
      "WARNING:tensorflow:Layer lstm_3 will not use cuDNN kernels since it doesn't meet the criteria. It will use a generic GPU kernel as fallback when running on GPU.\n",
      "WARNING:tensorflow:Layer lstm_3 will not use cuDNN kernels since it doesn't meet the criteria. It will use a generic GPU kernel as fallback when running on GPU.\n"
     ]
    }
   ],
   "source": [
    "# create bidirectional LSTM model for 4 sentence summaries\n",
    "\n",
    "model4 = Sequential()\n",
    "model4.add(Embedding(len(word_index) + 1,\n",
    " 50,\n",
    " weights=[embedding_matrix],\n",
    " input_length=MAX_LENGTH,\n",
    " trainable=False))\n",
    "model4.add(SpatialDropout1D(0.3))\n",
    "model4.add(Bidirectional(LSTM(100, dropout=0.3, recurrent_dropout=0.3)))\n",
    "model4.add(Dense(1024, activation='relu'))\n",
    "model4.add(Dropout(0.8))\n",
    "model4.add(Dense(1024, activation='relu'))\n",
    "model4.add(Dropout(0.8))\n",
    "model4.add(Dense(2))\n",
    "model4.add(Activation('sigmoid'))\n",
    "model4.compile(loss='categorical_crossentropy', optimizer='adam', metrics=['accuracy'])"
   ]
  },
  {
   "cell_type": "code",
   "execution_count": 64,
   "metadata": {},
   "outputs": [
    {
     "name": "stdout",
     "output_type": "stream",
     "text": [
      "Epoch 1/30\n",
      "71/71 [==============================] - 45s 600ms/step - loss: 0.4656 - accuracy: 0.7820 - val_loss: 0.3396 - val_accuracy: 0.8801\n",
      "Epoch 2/30\n",
      "71/71 [==============================] - 42s 593ms/step - loss: 0.3610 - accuracy: 0.8573 - val_loss: 0.2476 - val_accuracy: 0.9114\n",
      "Epoch 3/30\n",
      "71/71 [==============================] - 42s 595ms/step - loss: 0.3107 - accuracy: 0.8802 - val_loss: 0.2851 - val_accuracy: 0.9072\n",
      "Epoch 4/30\n",
      "71/71 [==============================] - 42s 588ms/step - loss: 0.2746 - accuracy: 0.8919 - val_loss: 0.2538 - val_accuracy: 0.9182\n",
      "Epoch 5/30\n",
      "71/71 [==============================] - 42s 597ms/step - loss: 0.2605 - accuracy: 0.9013 - val_loss: 0.3837 - val_accuracy: 0.8763\n",
      "Epoch 6/30\n",
      "71/71 [==============================] - 43s 608ms/step - loss: 0.2468 - accuracy: 0.9055 - val_loss: 0.2217 - val_accuracy: 0.9265\n",
      "Epoch 7/30\n",
      "71/71 [==============================] - 42s 598ms/step - loss: 0.2335 - accuracy: 0.9111 - val_loss: 0.2782 - val_accuracy: 0.9019\n",
      "Epoch 8/30\n",
      "71/71 [==============================] - 42s 596ms/step - loss: 0.2259 - accuracy: 0.9146 - val_loss: 0.1981 - val_accuracy: 0.9199\n",
      "Epoch 9/30\n",
      "71/71 [==============================] - 43s 603ms/step - loss: 0.2215 - accuracy: 0.9180 - val_loss: 0.2045 - val_accuracy: 0.9267\n",
      "Epoch 10/30\n",
      "71/71 [==============================] - 42s 599ms/step - loss: 0.2221 - accuracy: 0.9176 - val_loss: 0.2321 - val_accuracy: 0.9107\n",
      "Epoch 11/30\n",
      "71/71 [==============================] - 43s 599ms/step - loss: 0.2161 - accuracy: 0.9189 - val_loss: 0.2099 - val_accuracy: 0.9222\n",
      "Epoch 12/30\n",
      "71/71 [==============================] - 42s 587ms/step - loss: 0.2074 - accuracy: 0.9230 - val_loss: 0.1958 - val_accuracy: 0.9420\n",
      "Epoch 13/30\n",
      "71/71 [==============================] - 44s 614ms/step - loss: 0.1986 - accuracy: 0.9241 - val_loss: 0.1842 - val_accuracy: 0.9405\n",
      "Epoch 14/30\n",
      "71/71 [==============================] - 42s 593ms/step - loss: 0.1961 - accuracy: 0.9285 - val_loss: 0.1549 - val_accuracy: 0.9468\n",
      "Epoch 15/30\n",
      "71/71 [==============================] - 49s 691ms/step - loss: 0.1922 - accuracy: 0.9294 - val_loss: 0.2096 - val_accuracy: 0.9297\n",
      "Epoch 16/30\n",
      "71/71 [==============================] - 46s 642ms/step - loss: 0.2016 - accuracy: 0.9256 - val_loss: 0.1604 - val_accuracy: 0.9445\n",
      "Epoch 17/30\n",
      "71/71 [==============================] - 43s 607ms/step - loss: 0.1859 - accuracy: 0.9303 - val_loss: 0.1767 - val_accuracy: 0.9350\n",
      "Epoch 18/30\n",
      "71/71 [==============================] - 43s 601ms/step - loss: 0.1845 - accuracy: 0.9324 - val_loss: 0.1399 - val_accuracy: 0.9521\n",
      "Epoch 19/30\n",
      "71/71 [==============================] - 43s 605ms/step - loss: 0.1795 - accuracy: 0.9331 - val_loss: 0.1415 - val_accuracy: 0.9516\n",
      "Epoch 20/30\n",
      "71/71 [==============================] - 43s 605ms/step - loss: 0.1819 - accuracy: 0.9323 - val_loss: 0.1520 - val_accuracy: 0.9491\n",
      "Epoch 21/30\n",
      "71/71 [==============================] - 44s 615ms/step - loss: 0.1783 - accuracy: 0.9345 - val_loss: 0.1267 - val_accuracy: 0.9538\n",
      "Epoch 22/30\n",
      "71/71 [==============================] - 43s 608ms/step - loss: 0.1766 - accuracy: 0.9352 - val_loss: 0.1450 - val_accuracy: 0.9483\n",
      "Epoch 23/30\n",
      "71/71 [==============================] - 43s 603ms/step - loss: 0.1737 - accuracy: 0.9348 - val_loss: 0.1383 - val_accuracy: 0.9476\n",
      "Epoch 24/30\n",
      "71/71 [==============================] - 43s 606ms/step - loss: 0.1765 - accuracy: 0.9342 - val_loss: 0.1486 - val_accuracy: 0.9498\n",
      "Epoch 25/30\n",
      "71/71 [==============================] - 43s 605ms/step - loss: 0.1702 - accuracy: 0.9366 - val_loss: 0.1250 - val_accuracy: 0.9546\n",
      "Epoch 26/30\n",
      "71/71 [==============================] - 42s 593ms/step - loss: 0.1698 - accuracy: 0.9397 - val_loss: 0.1464 - val_accuracy: 0.9523\n",
      "Epoch 27/30\n",
      "71/71 [==============================] - 43s 610ms/step - loss: 0.1660 - accuracy: 0.9399 - val_loss: 0.1417 - val_accuracy: 0.9508\n",
      "Epoch 28/30\n",
      "71/71 [==============================] - 43s 604ms/step - loss: 0.1651 - accuracy: 0.9398 - val_loss: 0.1310 - val_accuracy: 0.9543\n",
      "Epoch 29/30\n",
      "71/71 [==============================] - 43s 603ms/step - loss: 0.1701 - accuracy: 0.9365 - val_loss: 0.1501 - val_accuracy: 0.9521\n",
      "Epoch 30/30\n",
      "71/71 [==============================] - 43s 607ms/step - loss: 0.1644 - accuracy: 0.9414 - val_loss: 0.1184 - val_accuracy: 0.9571\n"
     ]
    }
   ],
   "source": [
    "# fit model with the training data\n",
    "\n",
    "history4 = model4.fit(xtrain_padding4, y=ytrain_encode4, batch_size=512, validation_data=(xvalid_padding4, yvalid_encode4), epochs=30)"
   ]
  },
  {
   "cell_type": "code",
   "execution_count": 65,
   "metadata": {},
   "outputs": [
    {
     "name": "stdout",
     "output_type": "stream",
     "text": [
      "INFO:tensorflow:Assets written to: summary4_b.hd5/assets\n"
     ]
    }
   ],
   "source": [
    "# save 4 sentence summary model data\n",
    "\n",
    "model4.save(\"summary4_b.hd5\")"
   ]
  },
  {
   "cell_type": "code",
   "execution_count": 66,
   "metadata": {},
   "outputs": [
    {
     "name": "stdout",
     "output_type": "stream",
     "text": [
      "9/9 [==============================] - 1s 67ms/step\n"
     ]
    }
   ],
   "source": [
    "# predict on test set\n",
    "\n",
    "y_pred4 = model4.predict(x = xtest_padding4, batch_size = 512)"
   ]
  },
  {
   "cell_type": "code",
   "execution_count": 67,
   "metadata": {},
   "outputs": [],
   "source": [
    "# convert probabilities to binaries\n",
    "\n",
    "threshold = 0.5\n",
    "y_pred_class4 = np.where(y_pred4 > threshold, 1, 0)\n",
    "y_pred_int4 = []\n",
    "for i in range(len(y_pred_class4)):\n",
    "    if y_pred_class4[i][0] == 1:\n",
    "        y_pred_int4.append(0)\n",
    "    elif y_pred_class4[i][0] == 0:\n",
    "        y_pred_int4.append(1)"
   ]
  },
  {
   "cell_type": "code",
   "execution_count": 68,
   "metadata": {},
   "outputs": [
    {
     "data": {
      "text/plain": [
       "array([[2028,   99],\n",
       "       [ 117, 2183]])"
      ]
     },
     "execution_count": 68,
     "metadata": {},
     "output_type": "execute_result"
    }
   ],
   "source": [
    "# calculate confusion matrix\n",
    "\n",
    "from sklearn.metrics import confusion_matrix\n",
    "\n",
    "cm4 = confusion_matrix(y_pred_int4, ytest4)\n",
    "cm4"
   ]
  },
  {
   "cell_type": "code",
   "execution_count": 69,
   "metadata": {},
   "outputs": [
    {
     "name": "stdout",
     "output_type": "stream",
     "text": [
      "['summ4', 0.9566170026292725, 0.9491304347826087, 0.9512084933363452]\n"
     ]
    }
   ],
   "source": [
    "# calculate performance measures\n",
    "\n",
    "p4 = precision_score(y_pred_int4, ytest4)\n",
    "r4 = recall_score(y_pred_int4, ytest4)\n",
    "a4 = accuracy_score(y_pred_int4, ytest4)\n",
    "perf4 = [\"summ4\",p4,r4,a4]\n",
    "print(perf4)"
   ]
  },
  {
   "cell_type": "code",
   "execution_count": 70,
   "metadata": {},
   "outputs": [
    {
     "data": {
      "image/png": "[encoded data removed]",
      "text/plain": [
       "<Figure size 750x750 with 4 Axes>"
      ]
     },
     "metadata": {},
     "output_type": "display_data"
    }
   ],
   "source": [
    "from matplotlib import pyplot as plt\n",
    "\n",
    "fig, axs = plt.subplots(2,2, figsize=(7.5, 7.5))\n",
    "axs[0,0].matshow(cm1, cmap=plt.cm.Blues, alpha=0.3)\n",
    "for i in range(cm1.shape[0]):\n",
    "    for j in range(cm1.shape[1]):\n",
    "        axs[0,0].text(x=j, y=i,s=cm1[i, j], va='center', ha='center', size='x-large')\n",
    "axs[0,0].set_title('Titles', size= 'large')\n",
    "axs[0,1].matshow(cm2, cmap=plt.cm.Blues, alpha=0.3)\n",
    "for i in range(cm2.shape[0]):\n",
    "    for j in range(cm2.shape[1]):\n",
    "        axs[0,1].text(x=j, y=i,s=cm2[i, j], va='center', ha='center', size='x-large')\n",
    "axs[0,1].set_title('Whole Texts', size= 'large')\n",
    "axs[1,0].matshow(cm3, cmap=plt.cm.Blues, alpha=0.3)\n",
    "for i in range(cm3.shape[0]):\n",
    "    for j in range(cm3.shape[1]):\n",
    "        axs[1,0].text(x=j, y=i,s=cm3[i, j], va='center', ha='center', size='x-large')\n",
    "axs[1,0].set_title('Summary - 3', size= 'large')\n",
    "axs[1,1].matshow(cm4, cmap=plt.cm.Blues, alpha=0.3)\n",
    "for i in range(cm4.shape[0]):\n",
    "    for j in range(cm4.shape[1]):\n",
    "        axs[1,1].text(x=j, y=i,s=cm4[i, j], va='center', ha='center', size='x-large')\n",
    "axs[1,1].set_title('Summary - 4', size= 'large')\n",
    "\n",
    "for ax in axs.flat:\n",
    "    ax.set(xlabel = \"Actuals\", ylabel = \"Predictions\")\n",
    "\n",
    "for ax in axs.flat:\n",
    "    ax.label_outer()\n",
    "\n",
    "plt.show()"
   ]
  },
  {
   "cell_type": "code",
   "execution_count": 71,
   "metadata": {},
   "outputs": [
    {
     "data": {
      "text/html": [
       "<div>\n",
       "<style scoped>\n",
       "    .dataframe tbody tr th:only-of-type {\n",
       "        vertical-align: middle;\n",
       "    }\n",
       "\n",
       "    .dataframe tbody tr th {\n",
       "        vertical-align: top;\n",
       "    }\n",
       "\n",
       "    .dataframe thead th {\n",
       "        text-align: right;\n",
       "    }\n",
       "</style>\n",
       "<table border=\"1\" class=\"dataframe\">\n",
       "  <thead>\n",
       "    <tr style=\"text-align: right;\">\n",
       "      <th></th>\n",
       "      <th>model</th>\n",
       "      <th>precision</th>\n",
       "      <th>recall</th>\n",
       "      <th>accuracy</th>\n",
       "    </tr>\n",
       "  </thead>\n",
       "  <tbody>\n",
       "    <tr>\n",
       "      <th>0</th>\n",
       "      <td>titles</td>\n",
       "      <td>0.917476</td>\n",
       "      <td>0.951923</td>\n",
       "      <td>0.934041</td>\n",
       "    </tr>\n",
       "    <tr>\n",
       "      <th>1</th>\n",
       "      <td>whole texts</td>\n",
       "      <td>0.991270</td>\n",
       "      <td>0.944283</td>\n",
       "      <td>0.965213</td>\n",
       "    </tr>\n",
       "    <tr>\n",
       "      <th>2</th>\n",
       "      <td>summ3</td>\n",
       "      <td>0.978347</td>\n",
       "      <td>0.922500</td>\n",
       "      <td>0.946917</td>\n",
       "    </tr>\n",
       "    <tr>\n",
       "      <th>3</th>\n",
       "      <td>summ4</td>\n",
       "      <td>0.956617</td>\n",
       "      <td>0.949130</td>\n",
       "      <td>0.951208</td>\n",
       "    </tr>\n",
       "  </tbody>\n",
       "</table>\n",
       "</div>"
      ],
      "text/plain": [
       "         model  precision    recall  accuracy\n",
       "0       titles   0.917476  0.951923  0.934041\n",
       "1  whole texts   0.991270  0.944283  0.965213\n",
       "2        summ3   0.978347  0.922500  0.946917\n",
       "3        summ4   0.956617  0.949130  0.951208"
      ]
     },
     "execution_count": 71,
     "metadata": {},
     "output_type": "execute_result"
    }
   ],
   "source": [
    "df_results = pd.DataFrame([perf1,perf2,perf3,perf4], columns = ['model','precision','recall','accuracy'])\n",
    "df_results"
   ]
  }
 ],
 "metadata": {
  "kernelspec": {
   "display_name": "Python 3.9.13 ('tf')",
   "language": "python",
   "name": "python3"
  },
  "language_info": {
   "codemirror_mode": {
    "name": "ipython",
    "version": 3
   },
   "file_extension": ".py",
   "mimetype": "text/x-python",
   "name": "python",
   "nbconvert_exporter": "python",
   "pygments_lexer": "ipython3",
   "version": "3.9.13"
  },
  "orig_nbformat": 4,
  "vscode": {
   "interpreter": {
    "hash": "cdfeaaf558222e6152d1b8b5608a6b3851c7ad1b1c88c0f374f1fb0a85757022"
   }
  }
 },
 "nbformat": 4,
 "nbformat_minor": 2
}
